{
 "cells": [
  {
   "cell_type": "markdown",
   "source": [
    "## Text to speech"
   ],
   "metadata": {
    "collapsed": false,
    "pycharm": {
     "name": "#%% md\n"
    }
   }
  },
  {
   "cell_type": "markdown",
   "source": [
    "pyttsx3 is a text-to-speech conversion library in Python. Unlike alternative libraries, it works offline, and is compatible with both Python 2 and 3."
   ],
   "metadata": {
    "collapsed": false,
    "pycharm": {
     "name": "#%% md\n"
    }
   }
  },
  {
   "cell_type": "code",
   "execution_count": 12,
   "outputs": [],
   "source": [
    "import pyttsx3"
   ],
   "metadata": {
    "collapsed": false,
    "pycharm": {
     "name": "#%%\n"
    }
   }
  },
  {
   "cell_type": "code",
   "execution_count": 13,
   "outputs": [
    {
     "name": "stderr",
     "output_type": "stream",
     "text": [
      "Exception ignored in: <function BSTR.__del__ at 0x00000196C2B4EAF0>\n",
      "Traceback (most recent call last):\n",
      "  File \"C:\\Users\\no07c88l\\PycharmProjects\\pythonProject\\venv\\lib\\site-packages\\comtypes\\__init__.py\", line 1043, in __del__\n",
      "    def __del__(self, _free=windll.oleaut32.SysFreeString):\n",
      "KeyboardInterrupt: \n"
     ]
    }
   ],
   "source": [
    "engine = pyttsx3.init()\n",
    "engine.say(\"Bonjour les amis. Ceci est un exemple de transformation de texte en parole. Ce n'est peut-être pas satisfaisant mais vous pouvez l'améliorer.\")\n",
    "engine.runAndWait()"
   ],
   "metadata": {
    "collapsed": false,
    "pycharm": {
     "name": "#%%\n"
    }
   }
  },
  {
   "cell_type": "markdown",
   "source": [
    "## Speech to text"
   ],
   "metadata": {
    "collapsed": false,
    "pycharm": {
     "name": "#%% md\n"
    }
   }
  },
  {
   "cell_type": "markdown",
   "source": [
    "Vosk is a speech recognition toolkit. It supports 20+ languages and works offline, even on lightweight devices (i.e Raspberry Pi, Android, iOS, etc.)"
   ],
   "metadata": {
    "collapsed": false,
    "pycharm": {
     "name": "#%% md\n"
    }
   }
  },
  {
   "cell_type": "code",
   "execution_count": 14,
   "outputs": [
    {
     "name": "stdout",
     "output_type": "stream",
     "text": [
      "' les paroles et ça elle fonctionne en cloque encore attendre qu'elle '\n",
      "' piano lance pas là '\n",
      "' pont avec avec mon accent un peu bizarre je ne peux pas de est correct en paix '\n",
      "' pour pour l'améliorer '\n",
      "'  '\n",
      "'  '\n",
      "' ouais elle '\n"
     ]
    },
    {
     "ename": "KeyboardInterrupt",
     "evalue": "",
     "output_type": "error",
     "traceback": [
      "\u001B[1;31m---------------------------------------------------------------------------\u001B[0m",
      "\u001B[1;31mKeyboardInterrupt\u001B[0m                         Traceback (most recent call last)",
      "Cell \u001B[1;32mIn [14], line 12\u001B[0m\n\u001B[0;32m      9\u001B[0m stream\u001B[38;5;241m.\u001B[39mstart_stream()\n\u001B[0;32m     11\u001B[0m \u001B[38;5;28;01mwhile\u001B[39;00m \u001B[38;5;28;01mTrue\u001B[39;00m:\n\u001B[1;32m---> 12\u001B[0m     data \u001B[38;5;241m=\u001B[39m \u001B[43mstream\u001B[49m\u001B[38;5;241;43m.\u001B[39;49m\u001B[43mread\u001B[49m\u001B[43m(\u001B[49m\u001B[38;5;241;43m4096\u001B[39;49m\u001B[43m)\u001B[49m\n\u001B[0;32m     14\u001B[0m     \u001B[38;5;28;01mif\u001B[39;00m recognizer\u001B[38;5;241m.\u001B[39mAcceptWaveform(data):\n\u001B[0;32m     15\u001B[0m         text \u001B[38;5;241m=\u001B[39m recognizer\u001B[38;5;241m.\u001B[39mResult()\n",
      "File \u001B[1;32m~\\PycharmProjects\\pythonProject\\venv\\lib\\site-packages\\pyaudio.py:612\u001B[0m, in \u001B[0;36mStream.read\u001B[1;34m(self, num_frames, exception_on_overflow)\u001B[0m\n\u001B[0;32m    608\u001B[0m \u001B[38;5;28;01mif\u001B[39;00m \u001B[38;5;129;01mnot\u001B[39;00m \u001B[38;5;28mself\u001B[39m\u001B[38;5;241m.\u001B[39m_is_input:\n\u001B[0;32m    609\u001B[0m     \u001B[38;5;28;01mraise\u001B[39;00m \u001B[38;5;167;01mIOError\u001B[39;00m(\u001B[38;5;124m\"\u001B[39m\u001B[38;5;124mNot input stream\u001B[39m\u001B[38;5;124m\"\u001B[39m,\n\u001B[0;32m    610\u001B[0m                   paCanNotReadFromAnOutputOnlyStream)\n\u001B[1;32m--> 612\u001B[0m \u001B[38;5;28;01mreturn\u001B[39;00m \u001B[43mpa\u001B[49m\u001B[38;5;241;43m.\u001B[39;49m\u001B[43mread_stream\u001B[49m\u001B[43m(\u001B[49m\u001B[38;5;28;43mself\u001B[39;49m\u001B[38;5;241;43m.\u001B[39;49m\u001B[43m_stream\u001B[49m\u001B[43m,\u001B[49m\u001B[43m \u001B[49m\u001B[43mnum_frames\u001B[49m\u001B[43m,\u001B[49m\u001B[43m \u001B[49m\u001B[43mexception_on_overflow\u001B[49m\u001B[43m)\u001B[49m\n",
      "\u001B[1;31mKeyboardInterrupt\u001B[0m: "
     ]
    }
   ],
   "source": [
    "from vosk import Model, KaldiRecognizer\n",
    "import pyaudio\n",
    "\n",
    "model = Model(r\"C:\\\\Users\\\\no07c88l\\\\Downloads\\\\vosk-model-small-fr-0.22\\\\vosk-model-small-fr-0.22\")\n",
    "recognizer = KaldiRecognizer(model, 16000)\n",
    "\n",
    "mic = pyaudio.PyAudio()\n",
    "stream = mic.open(format=pyaudio.paInt16, channels=1, rate=16000, input=True, frames_per_buffer=8192)\n",
    "stream.start_stream()\n",
    "\n",
    "while True:\n",
    "    data = stream.read(4096)\n",
    "\n",
    "    if recognizer.AcceptWaveform(data):\n",
    "        text = recognizer.Result()\n",
    "        print(f\"' {text[14:-3]} '\")"
   ],
   "metadata": {
    "collapsed": false,
    "pycharm": {
     "name": "#%%\n"
    }
   }
  },
  {
   "cell_type": "markdown",
   "source": [
    "## Start file"
   ],
   "metadata": {
    "collapsed": false,
    "pycharm": {
     "name": "#%% md\n"
    }
   }
  },
  {
   "cell_type": "code",
   "execution_count": 11,
   "outputs": [],
   "source": [
    "import os\n",
    "os.startfile(r\"C:\\Users\\no07c88l\\Desktop\\file_example_MP3_700KB.mp3\")"
   ],
   "metadata": {
    "collapsed": false,
    "pycharm": {
     "name": "#%%\n"
    }
   }
  },
  {
   "cell_type": "markdown",
   "source": [
    "## Test"
   ],
   "metadata": {
    "collapsed": false,
    "pycharm": {
     "name": "#%% md\n"
    }
   }
  },
  {
   "cell_type": "markdown",
   "source": [
    "As soon as the assistant detects the word \" ouvrir \", it plays an mp3 file."
   ],
   "metadata": {
    "collapsed": false,
    "pycharm": {
     "name": "#%% md\n"
    }
   }
  },
  {
   "cell_type": "code",
   "execution_count": 16,
   "outputs": [
    {
     "name": "stdout",
     "output_type": "stream",
     "text": [
      "\n",
      "ouvrir\n",
      "les banques yale rucher\n"
     ]
    },
    {
     "ename": "KeyboardInterrupt",
     "evalue": "",
     "output_type": "error",
     "traceback": [
      "\u001B[1;31m---------------------------------------------------------------------------\u001B[0m",
      "\u001B[1;31mKeyboardInterrupt\u001B[0m                         Traceback (most recent call last)",
      "Cell \u001B[1;32mIn [16], line 17\u001B[0m\n\u001B[0;32m     14\u001B[0m \u001B[38;5;28;01mwhile\u001B[39;00m \u001B[38;5;28;01mTrue\u001B[39;00m:\n\u001B[0;32m     15\u001B[0m     data \u001B[38;5;241m=\u001B[39m stream\u001B[38;5;241m.\u001B[39mread(\u001B[38;5;241m4096\u001B[39m)\n\u001B[1;32m---> 17\u001B[0m     \u001B[38;5;28;01mif\u001B[39;00m \u001B[43mrecognizer\u001B[49m\u001B[38;5;241;43m.\u001B[39;49m\u001B[43mAcceptWaveform\u001B[49m\u001B[43m(\u001B[49m\u001B[43mdata\u001B[49m\u001B[43m)\u001B[49m:\n\u001B[0;32m     18\u001B[0m         text \u001B[38;5;241m=\u001B[39m recognizer\u001B[38;5;241m.\u001B[39mResult()\n\u001B[0;32m     19\u001B[0m         \u001B[38;5;28mprint\u001B[39m(\u001B[38;5;28mstr\u001B[39m(text[\u001B[38;5;241m14\u001B[39m:\u001B[38;5;241m-\u001B[39m\u001B[38;5;241m3\u001B[39m]))\n",
      "File \u001B[1;32m~\\PycharmProjects\\pythonProject\\venv\\lib\\site-packages\\vosk\\__init__.py:168\u001B[0m, in \u001B[0;36mKaldiRecognizer.AcceptWaveform\u001B[1;34m(self, data)\u001B[0m\n\u001B[0;32m    167\u001B[0m \u001B[38;5;28;01mdef\u001B[39;00m \u001B[38;5;21mAcceptWaveform\u001B[39m(\u001B[38;5;28mself\u001B[39m, data):\n\u001B[1;32m--> 168\u001B[0m     res \u001B[38;5;241m=\u001B[39m \u001B[43m_c\u001B[49m\u001B[38;5;241;43m.\u001B[39;49m\u001B[43mvosk_recognizer_accept_waveform\u001B[49m\u001B[43m(\u001B[49m\u001B[38;5;28;43mself\u001B[39;49m\u001B[38;5;241;43m.\u001B[39;49m\u001B[43m_handle\u001B[49m\u001B[43m,\u001B[49m\u001B[43m \u001B[49m\u001B[43mdata\u001B[49m\u001B[43m,\u001B[49m\u001B[43m \u001B[49m\u001B[38;5;28;43mlen\u001B[39;49m\u001B[43m(\u001B[49m\u001B[43mdata\u001B[49m\u001B[43m)\u001B[49m\u001B[43m)\u001B[49m\n\u001B[0;32m    169\u001B[0m     \u001B[38;5;28;01mif\u001B[39;00m res \u001B[38;5;241m<\u001B[39m \u001B[38;5;241m0\u001B[39m:\n\u001B[0;32m    170\u001B[0m         \u001B[38;5;28;01mraise\u001B[39;00m \u001B[38;5;167;01mException\u001B[39;00m(\u001B[38;5;124m\"\u001B[39m\u001B[38;5;124mFailed to process waveform\u001B[39m\u001B[38;5;124m\"\u001B[39m)\n",
      "\u001B[1;31mKeyboardInterrupt\u001B[0m: "
     ]
    }
   ],
   "source": [
    "from vosk import Model, KaldiRecognizer\n",
    "import pyaudio\n",
    "import os\n",
    "import pyttsx3\n",
    "\n",
    "\n",
    "model = Model(r\"C:\\\\Users\\\\no07c88l\\\\Downloads\\\\vosk-model-small-fr-0.22\\\\vosk-model-small-fr-0.22\")\n",
    "recognizer = KaldiRecognizer(model, 16000)\n",
    "\n",
    "mic = pyaudio.PyAudio()\n",
    "stream = mic.open(format=pyaudio.paInt16, channels=1, rate=16000, input=True, frames_per_buffer=8192)\n",
    "stream.start_stream()\n",
    "\n",
    "while True:\n",
    "    data = stream.read(4096)\n",
    "\n",
    "    if recognizer.AcceptWaveform(data):\n",
    "        text = recognizer.Result()\n",
    "        print(str(text[14:-3]))\n",
    "        engine = pyttsx3.init();\n",
    "        engine.say(str(text[14:-3]));\n",
    "        engine.runAndWait();\n",
    "        if (\"ouvrir\" in str(text[14:-3])):\n",
    "            os.startfile(r\"C:\\Users\\no07c88l\\Desktop\\file_example_MP3_700KB.mp3\")"
   ],
   "metadata": {
    "collapsed": false,
    "pycharm": {
     "name": "#%%\n"
    }
   }
  },
  {
   "cell_type": "code",
   "execution_count": null,
   "outputs": [],
   "source": [],
   "metadata": {
    "collapsed": false,
    "pycharm": {
     "name": "#%%\n"
    }
   }
  }
 ],
 "metadata": {
  "kernelspec": {
   "display_name": "Python 3",
   "language": "python",
   "name": "python3"
  },
  "language_info": {
   "codemirror_mode": {
    "name": "ipython",
    "version": 2
   },
   "file_extension": ".py",
   "mimetype": "text/x-python",
   "name": "python",
   "nbconvert_exporter": "python",
   "pygments_lexer": "ipython2",
   "version": "2.7.6"
  }
 },
 "nbformat": 4,
 "nbformat_minor": 0
}